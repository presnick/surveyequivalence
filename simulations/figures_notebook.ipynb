{
 "cells": [
  {
   "cell_type": "code",
   "execution_count": 2,
   "metadata": {},
   "outputs": [],
   "source": [
    "import matplotlib.pyplot as plt\n",
    "import numpy as np\n",
    "# import beta distribution\n",
    "from scipy.stats import beta\n",
    "import pandas as pd\n",
    "from tikzplotlib import save as tikz_save\n"
   ]
  },
  {
   "cell_type": "markdown",
   "metadata": {},
   "source": [
    "# Noisy signals (objective) model"
   ]
  },
  {
   "cell_type": "code",
   "execution_count": 8,
   "metadata": {},
   "outputs": [
    {
     "name": "stderr",
     "output_type": "stream",
     "text": [
      "/var/folders/gw/vbypfgbn24950nt2n5dm0jg40000gr/T/ipykernel_69995/1619232332.py:45: UserWarning: You have mixed positional and keyword arguments, some input may be discarded.\n",
      "  ax.legend(['30% GT pos', '70% $g_i=\\mathrm{neg}$'], fontsize=14,\n"
     ]
    },
    {
     "data": {
      "image/png": "[encoded data removed]",
      "text/plain": [
       "<Figure size 360x252 with 1 Axes>"
      ]
     },
     "metadata": {
      "needs_background": "light"
     },
     "output_type": "display_data"
    }
   ],
   "source": [
    "import numpy as np\n",
    "import matplotlib.pyplot as plt\n",
    "from scipy.stats import beta\n",
    "from math import pow\n",
    "\n",
    "# Create a figure and a set of subplots\n",
    "fig, ax = plt.subplots(1, 1)\n",
    "\n",
    "# Define parameters for the beta distribution\n",
    "alpha1, beta1 = 2, 20\n",
    "alpha2, beta2 = 20, 2\n",
    "\n",
    "# Generate a range of x values for the beta distribution\n",
    "x = np.linspace(0.01, 0.99, 1000)\n",
    "\n",
    "# Calculate the pdf of the beta distributions\n",
    "y1 = beta.pdf(x, alpha1, beta1)\n",
    "y2 = beta.pdf(x, alpha2, beta2)\n",
    "\n",
    "# plot the beta distributions, superimposed.\n",
    "# Calculate the mixture of two distributions, .7 of the first and .3 of the second\n",
    "mixture = 0.7 * y1 + 0.3 * y2 \n",
    "\n",
    "# Plot the joint distribution of the two beta distributions\n",
    "# ax.plot(x, mixture, 'k-')\n",
    "# fill the areas of the two components; there's a bug in fill that doesn't take an array for alpha, so manually doing it.\n",
    "# Loop over the x-axis values\n",
    "# for i in range(len(x)-1):\n",
    "#     if x[i]>0.5:\n",
    "#         ax.fill_between(x[i:i+2], y1[i:i+2]*.7, mixture[i:i+2], color='#00417C', alpha=pow(x[i], 8))\n",
    "#     else:\n",
    "#         ax.fill_between(x[i:i+2], 0, y1[i:i+2]*.7, color='#FFD600', alpha=pow(1-x[i], 8))\n",
    "\n",
    "for i in range(len(x)-1):\n",
    "    if x[i]>0.5:\n",
    "        ax.fill_between(x[i:i+2], y1[i:i+2]*.7, mixture[i:i+2], color='#00417C', alpha=1)\n",
    "    else:\n",
    "        ax.fill_between(x[i:i+2], 0, y1[i:i+2]*.7, color='#FFD600', alpha=1)\n",
    "\n",
    "# Add x and y axis label with subscripted \"i\"\n",
    "ax.set_xlabel('$s_{i} = pr(\\mathrm{pos\\ human\\ label})$', fontsize=14)\n",
    "ax.set_ylabel('Probability density of $s_{i}$', fontsize=14)\n",
    "\n",
    "# Add legend elements\n",
    "ax.legend(['30% GT pos', '70% $g_i=\\mathrm{neg}$'], fontsize=14, \n",
    "          labels=['30% $g_i=\\mathrm{pos}$', '70% $g_i=\\mathrm{neg}$'], \n",
    "          handles=[plt.Line2D([0], [0], color='#00417C', lw=2),\n",
    "                   plt.Line2D([0], [0], color='#FFD600', lw=2)])\n",
    "\n",
    "# ax.legend(fontsize=14)\n",
    "\n",
    "fig.set_size_inches(5, 3.5, forward=True)\n",
    "\n",
    "# Save the figure as SVG\n",
    "fig.savefig('objectiveJD.svg', format='svg')\n",
    "\n",
    "# Show the plot\n",
    "plt.show()\n",
    "\n",
    "\n",
    "\n"
   ]
  },
  {
   "cell_type": "markdown",
   "metadata": {},
   "source": [
    "# Subjective judgments model"
   ]
  },
  {
   "cell_type": "code",
   "execution_count": 7,
   "metadata": {},
   "outputs": [
    {
     "name": "stderr",
     "output_type": "stream",
     "text": [
      "No artists with labels found to put in legend.  Note that artists whose label start with an underscore are ignored when legend() is called with no argument.\n"
     ]
    },
    {
     "data": {
      "image/png": "[encoded data removed]",
      "text/plain": [
       "<Figure size 360x252 with 1 Axes>"
      ]
     },
     "metadata": {
      "needs_background": "light"
     },
     "output_type": "display_data"
    }
   ],
   "source": [
    "import numpy as np\n",
    "import matplotlib.pyplot as plt\n",
    "from scipy.stats import beta\n",
    "\n",
    "# Create a figure and a set of subplots\n",
    "fig, ax = plt.subplots(1, 1)\n",
    "\n",
    "# Define parameters for the beta distribution\n",
    "alpha1, beta1 = 2, 20\n",
    "alpha2, beta2 = 20, 2\n",
    "\n",
    "# Generate a range of x values for the beta distribution\n",
    "x = np.linspace(0.01, 0.99, 100)\n",
    "\n",
    "# Calculate the pdf of the beta distributions\n",
    "y1 = beta.pdf(x, alpha1, beta1)\n",
    "y2 = beta.pdf(x, alpha2, beta2)\n",
    "\n",
    "# plot the beta distributions, superimposed.\n",
    "# Calculate the mixture of two distributions, .7 of the first and .3 of the second\n",
    "mixture = 0.7 * y1 + 0.3 * y2 \n",
    "\n",
    "# Plot the joint distribution of the two beta distributions\n",
    "\n",
    "# ax.plot(x, mixture, 'k-')\n",
    "# shade it gray\n",
    "ax.fill_between(x, 0, mixture, color='gray', alpha=0.3)\n",
    "\n",
    "# Add x and y axis label\n",
    "ax.set_xlabel('$s_{i} = pr(\\mathrm{pos\\ human\\ label})$', fontsize=14)\n",
    "ax.set_ylabel('Probability density of $s_{i}$', fontsize=14)\n",
    "\n",
    "\n",
    "ax.legend()\n",
    "\n",
    "fig.set_size_inches(5, 3.5, forward=True)\n",
    "\n",
    "# Save the figure as SVG\n",
    "fig.savefig('subjectiveJD.svg', format='svg')\n",
    "\n",
    "\n",
    "# Show the plot\n",
    "plt.show()\n",
    "\n",
    "\n"
   ]
  },
  {
   "cell_type": "code",
   "execution_count": null,
   "metadata": {},
   "outputs": [],
   "source": []
  }
 ],
 "metadata": {
  "kernelspec": {
   "display_name": "altWorkflows",
   "language": "python",
   "name": "python3"
  },
  "language_info": {
   "codemirror_mode": {
    "name": "ipython",
    "version": 3
   },
   "file_extension": ".py",
   "mimetype": "text/x-python",
   "name": "python",
   "nbconvert_exporter": "python",
   "pygments_lexer": "ipython3",
   "version": "3.10.4"
  }
 },
 "nbformat": 4,
 "nbformat_minor": 2
}
